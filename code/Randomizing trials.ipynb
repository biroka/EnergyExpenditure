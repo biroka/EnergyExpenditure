{
 "cells": [
  {
   "cell_type": "code",
   "execution_count": 2,
   "metadata": {},
   "outputs": [
    {
     "name": "stdout",
     "output_type": "stream",
     "text": [
      "Rest (C01) then stair/bike conditions first, followed by treadmill conditions.\n",
      "['C08 Bike 8', 'C07 Stairs 70', 'C09 Bike 12', 'C06 Stairs 50']\n",
      "['TV02 sine walk', 'C04 Run 2.5', 'TV03 step walk to run', 'TV04 sine walk to run', 'C03 Walk 1.5', 'C02 Walk 1.0', 'TV01 step walk to stop', 'C05 Run 3.0']\n"
     ]
    }
   ],
   "source": [
    "# Running this cell generates the order of test conditions for each subject, change subject_number below\n",
    "# CXX represents a steady-state condition numbered 01 to 09, TVXX represents a time-varying condition numbered 01 to 04\n",
    "import numpy as np\n",
    "subject_number = 1 # this will seed the rng to generate the conditions\n",
    "\n",
    "cond_group_1 = ['C02 Walk 1.0', 'C03 Walk 1.5', 'C04 Run 2.5', 'C05 Run 3.0', 'TV01 step walk to stop', 'TV02 sine walk', 'TV03 step walk to run','TV04 sine walk to run']\n",
    "cond_group_2 = ['C06 Stairs 50', 'C07 Stairs 70', 'C08 Bike 8', 'C09 Bike 12']\n",
    "\n",
    "np.random.seed(subject_number)\n",
    "group_first = np.random.randint(low=0,high=2)\n",
    "np.random.shuffle(cond_group_1)\n",
    "np.random.shuffle(cond_group_2)\n",
    "if group_first == 0:\n",
    "    print(\"Rest (C01) then treadmill conditions first, followed by stair/bike conditions.\")\n",
    "    print(cond_group_1)\n",
    "    print(cond_group_2)\n",
    "else:\n",
    "    print(\"Rest (C01) then stair/bike conditions first, followed by treadmill conditions.\")\n",
    "    print(cond_group_2)\n",
    "    print(cond_group_1)"
   ]
  }
 ],
 "metadata": {
  "kernelspec": {
   "display_name": "Python 3",
   "language": "python",
   "name": "python3"
  },
  "language_info": {
   "codemirror_mode": {
    "name": "ipython",
    "version": 3
   },
   "file_extension": ".py",
   "mimetype": "text/x-python",
   "name": "python",
   "nbconvert_exporter": "python",
   "pygments_lexer": "ipython3",
   "version": "3.6.1"
  }
 },
 "nbformat": 4,
 "nbformat_minor": 2
}
